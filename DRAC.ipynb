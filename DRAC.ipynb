{
 "cells": [
  {
   "cell_type": "markdown",
   "id": "04512fa3",
   "metadata": {},
   "source": [
    "## Installing stuff"
   ]
  },
  {
   "cell_type": "code",
   "execution_count": null,
   "id": "013e5ea9",
   "metadata": {},
   "outputs": [],
   "source": [
    "!pip install segmentation-models-pytorch\n",
    "!pip install torchmetrics\n",
    "!pip install nnunet\n",
    "!pip install matplotlib\n",
    "!pip install opencv-python\n",
    "!pip install albumentations\n",
    "!pip install --upgrade google-api-python-client\n",
    "!pip install google-colab\n",
    "!apt-get update && apt-get install libgl1 -y"
   ]
  },
  {
   "cell_type": "code",
   "execution_count": null,
   "id": "ebf359ff",
   "metadata": {},
   "outputs": [],
   "source": [
    "!nvidia-smi"
   ]
  },
  {
   "cell_type": "markdown",
   "id": "cb64cd12",
   "metadata": {},
   "source": [
    "## Importing and Downloading/Extracting Stuff"
   ]
  },
  {
   "cell_type": "code",
   "execution_count": null,
   "id": "014a6bd1",
   "metadata": {},
   "outputs": [],
   "source": [
    "import torch\n",
    "import torchvision\n",
    "from torch import nn\n",
    "from torch import optim\n",
    "from torch.utils.data import DataLoader\n",
    "import torch.nn.functional as F\n",
    "\n",
    "import numpy as np\n",
    "\n",
    "import matplotlib.pyplot as plt\n",
    "\n",
    "import pandas as pd\n",
    "\n",
    "import glob, os\n",
    "\n",
    "from PIL import Image,ImageOps\n",
    "\n",
    "from tqdm import tqdm\n",
    "\n",
    "from sklearn.metrics import precision_score\n",
    "from sklearn.metrics import accuracy_score\n",
    "from sklearn.model_selection import train_test_split\n",
    "\n",
    "import segmentation_models_pytorch as smp\n",
    "\n",
    "from torchmetrics import JaccardIndex\n",
    "\n",
    "import cv2\n",
    "\n",
    "import albumentations as A\n",
    "\n"
   ]
  },
  {
   "cell_type": "code",
   "execution_count": null,
   "id": "08abfad3",
   "metadata": {},
   "outputs": [],
   "source": [
    "from zipfile import ZipFile\n",
    "zf = ZipFile('./Inputs.zip', 'r')\n",
    "zf.extractall('./Train')\n",
    "zf.close()"
   ]
  },
  {
   "cell_type": "code",
   "execution_count": null,
   "id": "c5a89290",
   "metadata": {},
   "outputs": [],
   "source": [
    "zf = ZipFile('./test_set.zip', 'r')\n",
    "zf.extractall('./Test')\n",
    "zf.close()"
   ]
  },
  {
   "cell_type": "markdown",
   "id": "a9ae4aaf",
   "metadata": {},
   "source": [
    "## Creating folders"
   ]
  },
  {
   "cell_type": "code",
   "execution_count": null,
   "id": "232def3f",
   "metadata": {},
   "outputs": [],
   "source": [
    "from pathlib import Path\n",
    "\n",
    "Path(\"./nnUNet_raw_data_base\").mkdir(parents=True, exist_ok=True)\n",
    "Path(\"./nnUNet_preprocessed\").mkdir(parents=True, exist_ok=True)\n",
    "Path(\"./nnUNet_trained_models\").mkdir(parents=True, exist_ok=True)\n",
    "\n",
    "Path(\"./nnUNet_raw_data_base/nnUNet_raw_data\").mkdir(parents=True, exist_ok=True)\n",
    "\n",
    "Path(\"./nnUNet_raw_data_base/nnUNet_raw_data/Task001_DRAC\").mkdir(parents=True, exist_ok=True)\n",
    "Path(\"./nnUNet_raw_data_base/nnUNet_raw_data/Task001_DRAC/imagesTr\").mkdir(parents=True, exist_ok=True)\n",
    "Path(\"./nnUNet_raw_data_base/nnUNet_raw_data/Task001_DRAC/imagesTs\").mkdir(parents=True, exist_ok=True)\n",
    "Path(\"./nnUNet_raw_data_base/nnUNet_raw_data/Task001_DRAC/labelsTr\").mkdir(parents=True, exist_ok=True)\n",
    "\n",
    "Path(\"./nnUNet_raw_data_base/nnUNet_raw_data/Task002_DRAC\").mkdir(parents=True, exist_ok=True)\n",
    "Path(\"./nnUNet_raw_data_base/nnUNet_raw_data/Task002_DRAC/imagesTr\").mkdir(parents=True, exist_ok=True)\n",
    "Path(\"./nnUNet_raw_data_base/nnUNet_raw_data/Task002_DRAC/imagesTs\").mkdir(parents=True, exist_ok=True)\n",
    "Path(\"./nnUNet_raw_data_base/nnUNet_raw_data/Task002_DRAC/labelsTr\").mkdir(parents=True, exist_ok=True)\n",
    "\n",
    "Path(\"./nnUNet_raw_data_base/nnUNet_raw_data/Task003_DRAC\").mkdir(parents=True, exist_ok=True)\n",
    "Path(\"./nnUNet_raw_data_base/nnUNet_raw_data/Task003_DRAC/imagesTr\").mkdir(parents=True, exist_ok=True)\n",
    "Path(\"./nnUNet_raw_data_base/nnUNet_raw_data/Task003_DRAC/imagesTs\").mkdir(parents=True, exist_ok=True)\n",
    "Path(\"./nnUNet_raw_data_base/nnUNet_raw_data/Task003_DRAC/labelsTr\").mkdir(parents=True, exist_ok=True)\n",
    "\n",
    "import pathlib\n",
    "here = pathlib.Path('.').resolve()\n",
    "nnUNet_raw_data_base = here.joinpath('nnUNet_raw_data_base')\n",
    "nnUNet_preprocessed = here.joinpath('nnUNet_preprocessed')\n",
    "results_folder = here.joinpath('results')\n",
    "os.environ[\"nnUNet_raw_data_base\"] = str(nnUNet_raw_data_base)\n",
    "os.environ[\"nnUNet_preprocessed\"] = str(nnUNet_preprocessed)\n",
    "os.environ[\"RESULTS_FOLDER\"] = str(results_folder)"
   ]
  },
  {
   "cell_type": "code",
   "execution_count": null,
   "id": "a31eca17",
   "metadata": {},
   "outputs": [],
   "source": [
    "import numpy as np\n",
    "from batchgenerators.utilities.file_and_folder_operations import *\n",
    "from nnunet.dataset_conversion.utils import generate_dataset_json\n",
    "from nnunet.paths import nnUNet_raw_data, preprocessing_output_dir\n",
    "from nnunet.utilities.file_conversions import convert_2d_image_to_nifti\n",
    "imgs = './Train/Inputs/Task1/img/'\n",
    "masks = './Train/Inputs/Task1/gt/'\n",
    "root = './nnUNet_raw_data_base/nnUNet_raw_data/Task001_DRAC/imagesTr'\n",
    "label_root = './nnUNet_raw_data_base/nnUNet_raw_data/Task001_DRAC/labelsTr'\n",
    "\n",
    "\n",
    "def prepare_data_train(imgs, masks, root, label_root):\n",
    "    for i in os.listdir(imgs):\n",
    "        img = os.path.join(imgs, i)\n",
    "        img_pil = np.array(Image.open(img))\n",
    "        try:\n",
    "            img_pil = img_pil[:,:,0]\n",
    "        except:\n",
    "            pass\n",
    "        img_pil = Image.fromarray(img_pil)\n",
    "        img_pil.save(img)\n",
    "\n",
    "    for i in os.listdir(imgs):\n",
    "        img = os.path.join(imgs, i)\n",
    "        convert_2d_image_to_nifti(img, os.path.join(root, i.split('.')[0]), is_seg=False)\n",
    "        print('Finish：'+ i )\n",
    "\n",
    "    print(\"LABELS\")\n",
    "    for i in os.listdir(masks):\n",
    "        mask = os.path.join(masks, i)\n",
    "        img = np.array(Image.open(mask))\n",
    "        img[img == 255] = 1\n",
    "        try:\n",
    "            img = img[:,:,1]\n",
    "        except:\n",
    "            pass\n",
    "        cv2.imwrite(mask, img)\n",
    "\n",
    "    for i in os.listdir(masks):\n",
    "        mask = os.path.join(masks, i)\n",
    "        convert_2d_image_to_nifti(mask, os.path.join(label_root, i.split('.')[0]), is_seg=True,\n",
    "                                 transform=None)\n",
    "        print('Finish：'+ i )"
   ]
  },
  {
   "cell_type": "code",
   "execution_count": null,
   "id": "e933ec19",
   "metadata": {},
   "outputs": [],
   "source": [
    "import numpy as np\n",
    "from batchgenerators.utilities.file_and_folder_operations import *\n",
    "from nnunet.dataset_conversion.utils import generate_dataset_json\n",
    "from nnunet.paths import nnUNet_raw_data, preprocessing_output_dir\n",
    "from nnunet.utilities.file_conversions import convert_2d_image_to_nifti\n",
    "imgs = './Test/'\n",
    "root = './nnUNet_raw_data_base/nnUNet_raw_data/Task001_DRAC/imagesTs'\n",
    "\n",
    "def prepare_data_test(imgs, root):\n",
    "    for i in os.listdir(imgs):\n",
    "        img = os.path.join(imgs, i)\n",
    "        img_pil = np.array(Image.open(img))\n",
    "        print(img_pil.shape)\n",
    "        img_pil = img_pil[:,:]\n",
    "        img_pil = Image.fromarray(img_pil)\n",
    "        img_pil.save(img)\n",
    "\n",
    "    for i in os.listdir(imgs):\n",
    "        img = os.path.join(imgs, i)\n",
    "        convert_2d_image_to_nifti(img, os.path.join(root, i.split('.')[0]), is_seg=False)\n",
    "        print('Finish：'+ i )"
   ]
  },
  {
   "cell_type": "code",
   "execution_count": null,
   "id": "01598235",
   "metadata": {},
   "outputs": [],
   "source": [
    "def get_json(task):\n",
    "    \n",
    "    raw = f\"./nnUNet_raw_data_base/nnUNet_raw_data/{task}/\"\n",
    "    generate_dataset_json(os.path.join(raw, 'dataset.json'), os.path.join(raw, 'imagesTr'),  os.path.join(raw, 'imagesTs'), ('G'),\n",
    "              labels={0: 'background', 1: 'class'}, dataset_name=f'{task}', license='--')\n"
   ]
  },
  {
   "cell_type": "markdown",
   "id": "92ad79aa",
   "metadata": {},
   "source": [
    "## Task1"
   ]
  },
  {
   "cell_type": "code",
   "execution_count": null,
   "id": "f5c5c577",
   "metadata": {},
   "outputs": [],
   "source": [
    "imgs = './Train/Inputs/Task1/img/'\n",
    "masks = './Train/Inputs/Task1/gt/'\n",
    "root = './nnUNet_raw_data_base/nnUNet_raw_data/Task001_DRACimagesTr'\n",
    "label_root = './nnUNet_raw_data_base/nnUNet_raw_data/Task001_DRAC/labelsTr'\n",
    "prepare_data_train(imgs, masks, root, label_root)\n",
    "\n",
    "imgs = './Test/'\n",
    "root = './nnUNet_raw_data_base/nnUNet_raw_data/Task001_DRAC/imagesTs'\n",
    "prepare_data_test(imgs, root)\n",
    "\n",
    "get_json(\"Task001_Eye\")"
   ]
  },
  {
   "cell_type": "code",
   "execution_count": null,
   "id": "37c9d6cd",
   "metadata": {},
   "outputs": [],
   "source": [
    "!nnUNet_plan_and_preprocess -t 001 --verify_dataset_integrity"
   ]
  },
  {
   "cell_type": "code",
   "execution_count": null,
   "id": "02eaf21b",
   "metadata": {},
   "outputs": [],
   "source": [
    "!pip show nnunet"
   ]
  },
  {
   "cell_type": "markdown",
   "id": "c7e21663",
   "metadata": {},
   "source": [
    "## Normal training with CV"
   ]
  },
  {
   "cell_type": "code",
   "execution_count": null,
   "id": "06d4e18d",
   "metadata": {},
   "outputs": [],
   "source": [
    "!nnUNet_train 2d nnUNetTrainerV2_DA5 Task001_Eye 0 --npz"
   ]
  },
  {
   "cell_type": "code",
   "execution_count": null,
   "id": "0e3ced3a",
   "metadata": {},
   "outputs": [],
   "source": [
    "!nnUNet_train 2d nnUNetTrainerV2_DA5 Task001_Eye 1 --npz"
   ]
  },
  {
   "cell_type": "code",
   "execution_count": null,
   "id": "a87941d7",
   "metadata": {},
   "outputs": [],
   "source": [
    "!nnUNet_train 2d nnUNetTrainerV2_DA5 Task001_Eye 2 --npz"
   ]
  },
  {
   "cell_type": "code",
   "execution_count": null,
   "id": "557280c6",
   "metadata": {},
   "outputs": [],
   "source": [
    "!nnUNet_train 2d nnUNetTrainerV2_DA5 Task001_Eye 3 --npz"
   ]
  },
  {
   "cell_type": "code",
   "execution_count": null,
   "id": "bc348046",
   "metadata": {},
   "outputs": [],
   "source": [
    "!nnUNet_train 2d nnUNetTrainerV2_DA5 Task001_Eye 4 --npz"
   ]
  },
  {
   "cell_type": "code",
   "execution_count": null,
   "id": "fb0b6b60",
   "metadata": {},
   "outputs": [],
   "source": [
    "!nnUNet_find_best_configuration -tr nnUNetTrainerV2_DA5 -m 2d -t 001 "
   ]
  },
  {
   "cell_type": "code",
   "execution_count": null,
   "id": "d745e41b",
   "metadata": {},
   "outputs": [],
   "source": [
    "!nnUNet_predict -i nnUNet_raw_data_base/nnUNet_raw_data/Task001_Eye/imagesTs/ -o ./output/ -tr nnUNetTrainerV2_DA5 -ctr nnUNetTrainerV2CascadeFullRes -m 2d -p nnUNetPlansv2.1 -t Task001_Eye"
   ]
  },
  {
   "cell_type": "markdown",
   "id": "3e041f32",
   "metadata": {},
   "source": [
    "## Task2"
   ]
  },
  {
   "cell_type": "code",
   "execution_count": null,
   "id": "63a24f9f",
   "metadata": {},
   "outputs": [],
   "source": [
    "imgs = './Train/Inputs/Task2/img/'\n",
    "masks = './Train/Inputs/Task2/gt/'\n",
    "root = './nnUNet_raw_data_base/nnUNet_raw_data/Task002_DRAC/imagesTr'\n",
    "label_root = './nnUNet_raw_data_base/nnUNet_raw_data/Task002_DRAC/labelsTr'\n",
    "prepare_data_train(imgs, masks, root, label_root)\n",
    "\n",
    "imgs = './Test/'\n",
    "root = './nnUNet_raw_data_base/nnUNet_raw_data/Task002_DRAC/imagesTs'\n",
    "prepare_data_test(imgs, root)\n",
    "\n",
    "get_json(\"Task002_DRAC\")"
   ]
  },
  {
   "cell_type": "code",
   "execution_count": null,
   "id": "62aeb80b",
   "metadata": {},
   "outputs": [],
   "source": [
    "!nnUNet_plan_and_preprocess -t 002 --verify_dataset_integrity"
   ]
  },
  {
   "cell_type": "markdown",
   "id": "a5d31f69",
   "metadata": {},
   "source": [
    "## Normal training with CV"
   ]
  },
  {
   "cell_type": "code",
   "execution_count": null,
   "id": "722f2db1",
   "metadata": {},
   "outputs": [],
   "source": [
    "!nnUNet_train 2d nnUNetTrainerV2_DA5 Task002_DRAC 0 --npz"
   ]
  },
  {
   "cell_type": "code",
   "execution_count": null,
   "id": "5d4887cf",
   "metadata": {},
   "outputs": [],
   "source": [
    "!nnUNet_train 2d nnUNetTrainerV2_DA5 Task002_DRAC 1 --npz"
   ]
  },
  {
   "cell_type": "code",
   "execution_count": null,
   "id": "3c1939d2",
   "metadata": {},
   "outputs": [],
   "source": [
    "!nnUNet_train 2d nnUNetTrainerV2_DA5 Task002_DRAC 2 --npz"
   ]
  },
  {
   "cell_type": "code",
   "execution_count": null,
   "id": "e99735fb",
   "metadata": {},
   "outputs": [],
   "source": [
    "!nnUNet_train 2d nnUNetTrainerV2_DA5 Task002_DRAC 3 --npz"
   ]
  },
  {
   "cell_type": "code",
   "execution_count": null,
   "id": "9e4047f0",
   "metadata": {},
   "outputs": [],
   "source": [
    "!nnUNet_train 2d nnUNetTrainerV2_DA5 Task002_DRAC 4 --npz"
   ]
  },
  {
   "cell_type": "code",
   "execution_count": null,
   "id": "ac5a6939",
   "metadata": {},
   "outputs": [],
   "source": [
    "!nnUNet_find_best_configuration -tr nnUNetTrainerV2_DA5 -m 2d -t 002 "
   ]
  },
  {
   "cell_type": "code",
   "execution_count": null,
   "id": "b526ce6f",
   "metadata": {},
   "outputs": [],
   "source": [
    "!nnUNet_predict -i nnUNet_raw_data_base/nnUNet_raw_data/Task002_DRAC/imagesTs/ -o ./output_task2/ -tr nnUNetTrainerV2_DA5 -ctr nnUNetTrainerV2CascadeFullRes -m 2d -p nnUNetPlansv2.1 -t Task002_DRAC"
   ]
  },
  {
   "cell_type": "markdown",
   "id": "8ab01a54",
   "metadata": {},
   "source": [
    "## Task3"
   ]
  },
  {
   "cell_type": "code",
   "execution_count": null,
   "id": "a7428c8a",
   "metadata": {},
   "outputs": [],
   "source": [
    "imgs = './Train/Inputs/Task3/img/'\n",
    "masks = './Train/Inputs/Task3/gt/'\n",
    "root = './nnUNet_raw_data_base/nnUNet_raw_data/Task003_DRAC/imagesTr'\n",
    "label_root = './nnUNet_raw_data_base/nnUNet_raw_data/Task003_DRAC/labelsTr'\n",
    "prepare_data_train(imgs, masks, root, label_root)\n",
    "\n",
    "imgs = './Test/'\n",
    "root = './nnUNet_raw_data_base/nnUNet_raw_data/Task003_DRAC/imagesTs'\n",
    "prepare_data_test(imgs, root)\n",
    "\n",
    "get_json(\"Task003_DRAC\")"
   ]
  },
  {
   "cell_type": "code",
   "execution_count": null,
   "id": "f4d98d81",
   "metadata": {},
   "outputs": [],
   "source": [
    "!nnUNet_plan_and_preprocess -t 003 --verify_dataset_integrity"
   ]
  },
  {
   "cell_type": "markdown",
   "id": "99409b29",
   "metadata": {},
   "source": [
    "## Normal training with CV"
   ]
  },
  {
   "cell_type": "code",
   "execution_count": null,
   "id": "745de855",
   "metadata": {},
   "outputs": [],
   "source": [
    "!nnUNet_train 2d nnUNetTrainerV2_DA5 Task003_DRAC 0 --npz"
   ]
  },
  {
   "cell_type": "code",
   "execution_count": null,
   "id": "6a954ce0",
   "metadata": {},
   "outputs": [],
   "source": [
    "!nnUNet_train 2d nnUNetTrainerV2_DA5 Task003_DRAC 1 --npz"
   ]
  },
  {
   "cell_type": "code",
   "execution_count": null,
   "id": "626e69cb",
   "metadata": {},
   "outputs": [],
   "source": [
    "!nnUNet_train 2d nnUNetTrainerV2_DA5 Task003_DRAC 2 --npz"
   ]
  },
  {
   "cell_type": "code",
   "execution_count": null,
   "id": "71c9eba0",
   "metadata": {},
   "outputs": [],
   "source": [
    "!nnUNet_train 2d nnUNetTrainerV2_DA5 Task003_DRAC 3 --npz"
   ]
  },
  {
   "cell_type": "code",
   "execution_count": null,
   "id": "df22e332",
   "metadata": {},
   "outputs": [],
   "source": [
    "!nnUNet_train 2d nnUNetTrainerV2_DA5 Task003_DRAC 4 --npz"
   ]
  },
  {
   "cell_type": "code",
   "execution_count": null,
   "id": "f91fa407",
   "metadata": {},
   "outputs": [],
   "source": [
    "!nnUNet_find_best_configuration -tr nnUNetTrainerV2_DA5 -m 2d -t 003 "
   ]
  },
  {
   "cell_type": "code",
   "execution_count": null,
   "id": "4b70cd61",
   "metadata": {},
   "outputs": [],
   "source": [
    "!nnUNet_predict -i nnUNet_raw_data_base/nnUNet_raw_data/Task003_DRAC/imagesTs/ -o ./output_task3/ -tr nnUNetTrainerV2_DA5 -ctr nnUNetTrainerV2CascadeFullRes -m 2d -p nnUNetPlansv2.1 -t Task003_DRAC"
   ]
  },
  {
   "cell_type": "markdown",
   "id": "025c5005",
   "metadata": {},
   "source": [
    "## Postprocessing"
   ]
  },
  {
   "cell_type": "code",
   "execution_count": null,
   "id": "a0419721",
   "metadata": {},
   "outputs": [],
   "source": [
    "THRESHOLD = 3\n",
    "\n",
    "for i in range(nr_img):\n",
    "    # This is just an example of how many images can be used. The amount of model / predictions for each task\n",
    "    # was slightly different. But the process was always identical\n",
    "    img1 = cv2.imread(f\"./path-to-folder/{i}.png\")[:,:,0]\n",
    "    img2 = cv2.imread(f\"./ipath-to-folder/{i}.png\")[:,:,0]\n",
    "    img3 = cv2.imread(f\"./path-to-folder/{i}.png\")[:,:,0]\n",
    "    \n",
    "    img = cv2.merge((img1, img2, img3))\n",
    "    img = np.sum((img), axis=2).astype(np.uint8)\n",
    "    img[img>=THRESHOLD] = 1\n",
    "    img[img!=1] = 0\n",
    "    img = cv2.rotate(img, cv2.ROTATE_90_CLOCKWISE)\n",
    "    img = cv2.flip(img, 1)\n",
    "    cv2.imwrite(f\"./path-to-folder/{i}.png\",img)"
   ]
  },
  {
   "cell_type": "code",
   "execution_count": null,
   "id": "4147e145",
   "metadata": {},
   "outputs": [],
   "source": [
    "THRESHOLD = 3\n",
    "\n",
    "for i in range(nr_img):\n",
    "    # This is just an example of how many images can be used. The amount of model / predictions for each task\n",
    "    # was slightly different. But the process was always identical\n",
    "    img1 = cv2.imread(f\"./path-to-folder/{i}.png\")[:,:,0]\n",
    "    img2 = cv2.imread(f\"./path-to-folder/{i}.png\")[:,:,0]\n",
    "    img3 = cv2.imread(f\"./path-to-folder/{i}.png\")[:,:,0]\n",
    "    \n",
    "    img = cv2.merge((img1, img2, img3))\n",
    "    img = np.sum((img), axis=2).astype(np.uint8)\n",
    "    img[img>=THRESHOLD] = 1\n",
    "    img[img!=1] = 0\n",
    "        \n",
    "    img = cv2.rotate(img, cv2.ROTATE_90_CLOCKWISE)\n",
    "    img = cv2.flip(img, 1)\n",
    "    cv2.imwrite(f\"./images/voting_task2/{i}.png\",img)"
   ]
  },
  {
   "cell_type": "code",
   "execution_count": null,
   "id": "f63a5297",
   "metadata": {},
   "outputs": [],
   "source": [
    "for i in range(nr_img):\n",
    "    # This is just an example of how many images can be used. The amount of model / predictions for each task\n",
    "    # was slightly different. But the process was always identical\n",
    "    img1 = cv2.imread(f\"./path-to-folder/{i}.png\")[:,:,0]\n",
    "    img2 = cv2.imread(f\"./path-to-folder/{i}.png\")[:,:,0]\n",
    "    img3 = cv2.imread(f\"./path-to-folder/{i}.png\")[:,:,0]\n",
    "    \n",
    "    img = cv2.merge((img1, img2, img3))\n",
    "    img = np.sum((img), axis=2).astype(np.uint8)\n",
    "    img[img>=1] = 1\n",
    "    img = cv2.rotate(img, cv2.ROTATE_90_CLOCKWISE)\n",
    "    img = cv2.flip(img, 1)\n",
    "    cv2.imwrite(f\"./path-to-folder/{i}.png\",img)"
   ]
  },
  {
   "cell_type": "code",
   "execution_count": null,
   "id": "8f79ba6f",
   "metadata": {},
   "outputs": [],
   "source": [
    "import os\n",
    "import cv2\n",
    "import SimpleITK\n",
    "import numpy as np\n",
    "\n",
    "\n",
    "def read_nii(nii_path, data_type=np.uint16):\n",
    "    img = SimpleITK.ReadImage(nii_path)\n",
    "    data = SimpleITK.GetArrayFromImage(img)\n",
    "    return np.array(data, dtype=data_type)\n",
    "\n",
    "\n",
    "def arr2nii(data, filename, reference_name=None):\n",
    "    img = SimpleITK.GetImageFromArray(data)\n",
    "    if (reference_name is not None):\n",
    "        img_ref = SimpleITK.ReadImage(reference_name)\n",
    "        img.CopyInformation(img_ref)\n",
    "    SimpleITK.WriteImage(img, filename)\n",
    "\n",
    "\n",
    "def masks2nii(mask_path, task):\n",
    "    mask_name_list = os.listdir(mask_path)\n",
    "    mask_name_list = sorted(mask_name_list, reverse=False, key=lambda x: int(x[:-4]))\n",
    "    print(mask_name_list)\n",
    "    mask_list = []\n",
    "    for mask_name in mask_name_list:\n",
    "        mask = cv2.imread(os.path.join(mask_path, mask_name), -1)\n",
    "        mask_list.append(mask)\n",
    "    arr = np.array(mask_list, np.uint8)\n",
    "    print(arr.shape)\n",
    "    arr2nii(arr, f\"./path-to-folder/{task}.nii.gz\")"
   ]
  },
  {
   "cell_type": "code",
   "execution_count": null,
   "id": "42075c9b",
   "metadata": {},
   "outputs": [],
   "source": [
    "path = f\"path-to-folder\"\n",
    "masks2nii(path, 2)"
   ]
  }
 ],
 "metadata": {
  "hide_input": false,
  "kernelspec": {
   "display_name": "Python 3 (ipykernel)",
   "language": "python",
   "name": "python3"
  },
  "language_info": {
   "codemirror_mode": {
    "name": "ipython",
    "version": 3
   },
   "file_extension": ".py",
   "mimetype": "text/x-python",
   "name": "python",
   "nbconvert_exporter": "python",
   "pygments_lexer": "ipython3",
   "version": "3.9.12"
  },
  "toc": {
   "base_numbering": 1,
   "nav_menu": {},
   "number_sections": true,
   "sideBar": true,
   "skip_h1_title": false,
   "title_cell": "Table of Contents",
   "title_sidebar": "Contents",
   "toc_cell": false,
   "toc_position": {},
   "toc_section_display": true,
   "toc_window_display": false
  },
  "varInspector": {
   "cols": {
    "lenName": 16,
    "lenType": 16,
    "lenVar": 40
   },
   "kernels_config": {
    "python": {
     "delete_cmd_postfix": "",
     "delete_cmd_prefix": "del ",
     "library": "var_list.py",
     "varRefreshCmd": "print(var_dic_list())"
    },
    "r": {
     "delete_cmd_postfix": ") ",
     "delete_cmd_prefix": "rm(",
     "library": "var_list.r",
     "varRefreshCmd": "cat(var_dic_list()) "
    }
   },
   "types_to_exclude": [
    "module",
    "function",
    "builtin_function_or_method",
    "instance",
    "_Feature"
   ],
   "window_display": false
  }
 },
 "nbformat": 4,
 "nbformat_minor": 5
}
